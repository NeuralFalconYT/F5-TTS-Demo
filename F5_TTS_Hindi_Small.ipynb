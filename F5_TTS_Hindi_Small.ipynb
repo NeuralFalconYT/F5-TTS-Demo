{
  "nbformat": 4,
  "nbformat_minor": 0,
  "metadata": {
    "colab": {
      "provenance": [],
      "gpuType": "T4"
    },
    "kernelspec": {
      "name": "python3",
      "display_name": "Python 3"
    },
    "language_info": {
      "name": "python"
    },
    "accelerator": "GPU"
  },
  "cells": [
    {
      "cell_type": "markdown",
      "source": [
        "[rumourscape forked F5-TTS](https://github.com/rumourscape/F5-TTS) <br>\n",
        "\n",
        "[F5-Hindi-24KHz Hugging Face Model Card](https://huggingface.co/SPRINGLab/F5-Hindi-24KHz)<br>\n",
        "\n",
        "[Learn More at](https://github.com/rumourscape/F5-TTS/blob/main/src/f5_tts/infer/SHARED.md) <br>\n",
        "F5-TTS License: MIT <br>\n",
        "F5-Hindi-24KHz Model License: CC-BY-4.0 <br>\n",
        "Uses:\n",
        "The model was developed and is primarily intended for research purposes.<br>\n",
        "Authors: SPRING Lab, Indian Institute of Technology, Madras\n",
        "Website: https://asr.iitm.ac.in/"
      ],
      "metadata": {
        "id": "_779_D7kq7LB"
      }
    },
    {
      "cell_type": "code",
      "execution_count": null,
      "metadata": {
        "id": "2FtvFC7xeqy0"
      },
      "outputs": [],
      "source": [
        "!git clone https://github.com/rumourscape/F5-TTS.git\n",
        "%cd /content/F5-TTS\n",
        "!pip install -e .\n",
        "from IPython.display import clear_output\n",
        "clear_output()"
      ]
    },
    {
      "cell_type": "code",
      "source": [
        "!f5-tts_infer-gradio --share"
      ],
      "metadata": {
        "id": "KzuUfzxRhnt8"
      },
      "execution_count": null,
      "outputs": []
    }
  ]
}