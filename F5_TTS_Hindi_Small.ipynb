{
  "nbformat": 4,
  "nbformat_minor": 0,
  "metadata": {
    "colab": {
      "provenance": [],
      "gpuType": "T4"
    },
    "kernelspec": {
      "name": "python3",
      "display_name": "Python 3"
    },
    "language_info": {
      "name": "python"
    },
    "accelerator": "GPU"
  },
  "cells": [
    {
      "cell_type": "markdown",
      "source": [
        "[rumourscape forked F5-TTS](https://github.com/rumourscape/F5-TTS) <br>\n",
        "\n",
        "[F5-Hindi-24KHz Hugging Face Model Card](https://huggingface.co/SPRINGLab/F5-Hindi-24KHz)<br>\n",
        "\n",
        "[Learn More at](https://github.com/rumourscape/F5-TTS/blob/main/src/f5_tts/infer/SHARED.md) <br>\n",
        "F5-TTS License: MIT <br>\n",
        "F5-Hindi-24KHz Model License: CC-BY-4.0 <br>\n",
        "Uses:\n",
        "The model was developed and is primarily intended for research purposes.<br>\n",
        "Authors: SPRING Lab, Indian Institute of Technology, Madras\n",
        "Website: https://asr.iitm.ac.in/"
      ],
      "metadata": {
        "id": "_779_D7kq7LB"
      }
    },
    {
      "cell_type": "markdown",
      "source": [
        "\n",
        "\n",
        "# Beginner Guide  \n",
        "\n",
        "### [How to Install Python 3.10](https://www.youtube.com/watch?v=JJQW3GPnzQ8)  \n",
        "### [How to Set Up NVIDIA GPU / CUDA](https://www.youtube.com/watch?v=nATRPPZ5dGE)  \n",
        "\n",
        "## Windows Installation  \n",
        "\n",
        "1. Open a folder and note its name.  \n",
        "2. Open the Command Prompt (CMD).  \n",
        "\n",
        "Run the following commands:  \n",
        "\n",
        "```bash\n",
        "python -m venv myenv\n",
        "myenv\\Scripts\\activate\n",
        "git clone https://github.com/rumourscape/F5-TTS.git\n",
        "nvcc --version\n",
        "```\n",
        "\n",
        "3. [Download PyTorch based on your CUDA version](https://pytorch.org/get-started/locally).  \n",
        "\n",
        "Example installation commands:  \n",
        "```bash\n",
        "pip install torch==2.3.0+cu118 --extra-index-url https://download.pytorch.org/whl/cu118\n",
        "pip install torchaudio==2.3.0+cu118 --extra-index-url https://download.pytorch.org/whl/cu118\n",
        "```\n",
        "\n",
        "4. Navigate to the F5-TTS directory:  \n",
        "```bash\n",
        "cd F5-TTS\n",
        "```\n",
        "\n",
        "5. Install the F5-TTS package:  \n",
        "```bash\n",
        "pip install -e .\n",
        "```\n",
        "\n",
        "6. Run the application:  \n",
        "```bash\n",
        "f5-tts_infer-gradio\n",
        "```\n",
        "\n",
        "---\n",
        "\n",
        "## Later Usage  \n",
        "\n",
        "1. Open the folder where you installed F5-TTS.  \n",
        "2. Open the Command Prompt (CMD).  \n",
        "\n",
        "Activate the virtual environment and run the application:  \n",
        "```bash\n",
        "myenv\\Scripts\\activate\n",
        "f5-tts_infer-gradio\n",
        "```\n",
        "\n",
        "---\n",
        "\n",
        "## Uninstall F5-TTS  \n",
        "\n",
        "1. Open the folder where you installed F5-TTS.  \n",
        "2. Open the Command Prompt (CMD).  \n",
        "\n",
        "Run the following commands to uninstall:  \n",
        "\n",
        "```bash\n",
        "myenv\\Scripts\\activate\n",
        "pip uninstall -y torch torchaudio\n",
        "pip uninstall f5-tts\n",
        "```\n",
        "\n",
        "3. Delete the `myenv` folder and the `F5-TTS` folder to remove all traces of the installation.  \n",
        "\n"
      ],
      "metadata": {
        "id": "_qRE5D9f7G2D"
      }
    },
    {
      "cell_type": "code",
      "execution_count": null,
      "metadata": {
        "id": "2FtvFC7xeqy0"
      },
      "outputs": [],
      "source": [
        "!git clone https://github.com/rumourscape/F5-TTS.git\n",
        "%cd /content/F5-TTS\n",
        "!pip install -e .\n",
        "from IPython.display import clear_output\n",
        "clear_output()"
      ]
    },
    {
      "cell_type": "code",
      "source": [
        "!f5-tts_infer-gradio --share"
      ],
      "metadata": {
        "id": "KzuUfzxRhnt8"
      },
      "execution_count": null,
      "outputs": []
    }
  ]
}