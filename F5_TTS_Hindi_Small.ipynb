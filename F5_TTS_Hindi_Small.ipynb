{
  "nbformat": 4,
  "nbformat_minor": 0,
  "metadata": {
    "colab": {
      "provenance": [],
      "gpuType": "T4"
    },
    "kernelspec": {
      "name": "python3",
      "display_name": "Python 3"
    },
    "language_info": {
      "name": "python"
    },
    "accelerator": "GPU"
  },
  "cells": [
    {
      "cell_type": "markdown",
      "source": [
        "\n",
        "\n",
        "**[F5-TTS Repository (Forked by Rumourscape)](https://github.com/rumourscape/F5-TTS)**  \n",
        "**[F5-Hindi-24KHz Hugging Face Model Card](https://huggingface.co/SPRINGLab/F5-Hindi-24KHz)**  \n",
        "**[Learn More](https://github.com/rumourscape/F5-TTS/blob/main/src/f5_tts/infer/SHARED.md)**\n",
        "\n",
        "**Licenses:**  \n",
        "- F5-TTS: [MIT](https://huggingface.co/microsoft/bitnet-b1.58-2B-4T/blob/main/LICENSE)  \n",
        "- F5-Hindi-24KHz Model: [CC-BY-4.0](https://huggingface.co/datasets/choosealicense/licenses/blob/main/markdown/cc-by-4.0.md)\n",
        "\n",
        "\n",
        "**Authors:**  \n",
        "SPRING Lab, Indian Institute of Technology, Madras <br>\n",
        "[Spring Lab Website](https://asr.iitm.ac.in/)\n",
        "\n",
        "---\n",
        "\n",
        "### **Disclaimer:**\n",
        "\n",
        "- This model was developed primarily for research purposes.\n",
        "- Developers are not responsible for misuse. Users must have appropriate consent and follow all applicable laws regarding privacy, consent, and intellectual property.\n",
        "- Misuse, including impersonation or deception, may result in legal consequences.\n",
        "\n"
      ],
      "metadata": {
        "id": "wxtkYGJSEJ3I"
      }
    },
    {
      "cell_type": "markdown",
      "source": [
        "\n",
        "\n",
        "# Beginner Guide  \n",
        "\n",
        "### [How to Install Python 3.10](https://www.youtube.com/watch?v=JJQW3GPnzQ8)  \n",
        "### [How to Set Up NVIDIA GPU / CUDA](https://www.youtube.com/watch?v=nATRPPZ5dGE)  \n",
        "### [How to install Git Bash](https://www.youtube.com/watch?v=7BOrUHFu44A)\n",
        "## Windows Installation  \n",
        "\n",
        "1. Open a folder and note its name.  \n",
        "2. Open the Command Prompt (CMD).  \n",
        "\n",
        "Run the following commands:  \n",
        "\n",
        "```bash\n",
        "python -m venv myenv\n",
        "myenv\\Scripts\\activate\n",
        "git clone https://github.com/rumourscape/F5-TTS.git\n",
        "nvcc --version\n",
        "```\n",
        "\n",
        "3. [Download PyTorch based on your CUDA version](https://pytorch.org/get-started/locally).  \n",
        "\n",
        "Example installation commands:  \n",
        "```bash\n",
        "pip install torch==2.3.0+cu118 --extra-index-url https://download.pytorch.org/whl/cu118\n",
        "pip install torchaudio==2.3.0+cu118 --extra-index-url https://download.pytorch.org/whl/cu118\n",
        "```\n",
        "\n",
        "4. Navigate to the F5-TTS directory:  \n",
        "```bash\n",
        "cd F5-TTS\n",
        "```\n",
        "\n",
        "5. Install the F5-TTS package:  \n",
        "```bash\n",
        "pip install -e .\n",
        "```\n",
        "\n",
        "6. Run the application:  \n",
        "```bash\n",
        "f5-tts_infer-gradio\n",
        "```\n",
        "\n",
        "---\n",
        "\n",
        "## Later Usage  \n",
        "\n",
        "1. Open the folder where you installed F5-TTS.  \n",
        "2. Open the Command Prompt (CMD).  \n",
        "\n",
        "Activate the virtual environment and run the application:  \n",
        "```bash\n",
        "myenv\\Scripts\\activate\n",
        "f5-tts_infer-gradio\n",
        "```\n",
        "\n",
        "---\n",
        "\n",
        "## Uninstall F5-TTS  \n",
        "\n",
        "1. Open the folder where you installed F5-TTS.  \n",
        "2. Open the Command Prompt (CMD).  \n",
        "\n",
        "Run the following commands to uninstall:  \n",
        "\n",
        "```bash\n",
        "myenv\\Scripts\\activate\n",
        "pip uninstall -y torch torchaudio\n",
        "pip uninstall f5-tts\n",
        "```\n",
        "\n",
        "3. Delete the `myenv` folder and the `F5-TTS` folder to remove all traces of the installation.  \n",
        "\n"
      ],
      "metadata": {
        "id": "_qRE5D9f7G2D"
      }
    },
    {
      "cell_type": "code",
      "execution_count": null,
      "metadata": {
        "id": "2FtvFC7xeqy0"
      },
      "outputs": [],
      "source": [
        "#@title Step 1:  Install and Restart Session Automatically (Cancel every pop up)\n",
        "%cd /content/\n",
        "!git clone https://github.com/rumourscape/F5-TTS.git\n",
        "%cd /content/F5-TTS\n",
        "!pip install -e .\n",
        "\n",
        "# Fix gradio bug TypeError: argument of type 'bool' is not iterable\n",
        "!pip install --no-cache-dir --upgrade --force-reinstall gradio==5.25.1\n",
        "!pip install --no-cache-dir --upgrade --force-reinstall fastapi==0.115.12\n",
        "!pip install --no-cache-dir --upgrade --force-reinstall httpx==0.28.1\n",
        "!pip install --no-cache-dir --upgrade --force-reinstall pydantic==2.11.3\n",
        "!pip install --no-cache-dir --upgrade --force-reinstall numpy==1.26.4\n",
        "\n",
        "from IPython.display import clear_output\n",
        "clear_output()\n",
        "import time\n",
        "time.sleep(5)\n",
        "import os\n",
        "os.kill(os.getpid(), 9)"
      ]
    },
    {
      "cell_type": "markdown",
      "source": [
        "![image.png](data:image/png;base64,iVBORw0KGgoAAAANSUhEUgAAACAAAAAhCAYAAAC4JqlRAAAAAXNSR0IArs4c6QAAAARnQU1BAACxjwv8YQUAAAAJcEhZcwAAEnQAABJ0Ad5mH3gAAAIbSURBVFhH7ZY/SBtxFMe/VgIZusThBvMTL4IxuAguOcnFioi4OgUFRbSLS7eOhUBHN2cj0gwlk7uE4xojMeCig5hT4cTokEFXaSztdNK83737I2iWfMbP497vy+OFvD5N0/6ii3yg4r3pBegLswOqoiCdHMX4kMDgQAzRSARP7TbuHx5xfttE3bqE3WrRzzwJFCAl4ljK6pgaS9KSRK1h4edhFRfNO1pyxTdATs9gY26Wal8KZQOl6hHVEv1CiDyVDpsL81iezlIdiMmRBD5Gozi5uqalDtglzOkZLGppqkOxqKWR0zNUd+AaICXi7NhP7RuqPNmYm0VKxKl+wTXAUlan6oUz28bXvR8omr9oicWrnxRAVRTfbT+1b1A0K4FDTI0loSoK1YBbgHRylCqWolnBfP57oCBcXynA+JCgypcgQbi+UoDBgRhVgSmaFXY/uL5SgGgkQlUonP2gvxaurxTgqd2mKhQT6jC21lYxoQ53eK6vFOD+4ZGqwGytrbo+Do++UoDz2yZVvqzMTOMg/831YQeurxSgbl1SxeKMe2XmEy1JcH2lAHarhVrDoroD52Fu3JRaw2LvBNe/45SIY/vzOtWv5svOLnsfSBMAgIvmHQplg+pXUSgb7OPgAgBAqXqE/eM61aHYP677HiWeB8nJ1TV+P//B5EiClnwplA3sGSbVEq47QOnqTfg/XbuK3xJ2Cd+LXoBegH8oDc4yQ010FQAAAABJRU5ErkJggg==)\n",
        "\n",
        "The red icon indicates that F5-TTS Hindi was successfully installed, and the Colab runtime session will automatically restart."
      ],
      "metadata": {
        "id": "9yCvhLJX_UEI"
      }
    },
    {
      "cell_type": "code",
      "source": [
        "# https://huggingface.co/spaces/hf-audio/whisper-large-v3-turbo"
      ],
      "metadata": {
        "id": "4tFwOMo4_JHf"
      },
      "execution_count": null,
      "outputs": []
    },
    {
      "cell_type": "markdown",
      "source": [
        "Use [whisper-large-v3-turbo Hugging face space](https://huggingface.co/spaces/hf-audio/whisper-large-v3-turbo) <br> to generate Hindi reference text from audio.\n",
        "Because sometimes, F5-TTS Whisper-Turbo incorrectly transcribes the reference voice, detecting languages like Urdu or Chinese instead of Hindi. This may lead to poor output."
      ],
      "metadata": {
        "id": "QnXtvYyp_fk6"
      }
    },
    {
      "cell_type": "code",
      "source": [
        "#@title Step 2: Run Gradio app\n",
        "%cd /content/F5-TTS\n",
        "!f5-tts_infer-gradio --share"
      ],
      "metadata": {
        "id": "KzuUfzxRhnt8"
      },
      "execution_count": null,
      "outputs": []
    }
  ]
}