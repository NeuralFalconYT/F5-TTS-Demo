{
  "nbformat": 4,
  "nbformat_minor": 0,
  "metadata": {
    "colab": {
      "provenance": [],
      "gpuType": "T4"
    },
    "kernelspec": {
      "name": "python3",
      "display_name": "Python 3"
    },
    "language_info": {
      "name": "python"
    },
    "accelerator": "GPU"
  },
  "cells": [
    {
      "cell_type": "code",
      "execution_count": null,
      "metadata": {
        "cellView": "form",
        "id": "6WB0py3yUzMt"
      },
      "outputs": [],
      "source": [
        "#@title install\n",
        "# base_path=\"/teamspace/studios/this_studio\"\n",
        "base_path=\"/content\"  #for google colab\n",
        "# base_path=\".\" #local dir\n",
        "\n",
        "%cd $base_path\n",
        "!rm -rf $base_path/F5-TTS\n",
        "!rm -rf $base_path/F5-TTS-Demo\n",
        "!git clone https://github.com/NeuralFalconYT/F5-TTS.git\n",
        "!git clone https://github.com/NeuralFalconYT/F5-TTS-Demo.git\n",
        "%cd $base_path/F5-TTS\n",
        "!python $base_path/F5-TTS-Demo/f5_model.py\n",
        "!cp $base_path/F5-TTS-Demo/dub.py $base_path/F5-TTS\n",
        "!pip install -r requirements.txt\n",
        "!pip install nltk\n",
        "!pip install pysrt==1.1.2\n",
        "!pip install faster-whisper\n",
        "# !sudo apt install ffmpeg\n",
        "\n",
        "from IPython.display import clear_output\n",
        "clear_output()\n",
        "import time\n",
        "time.sleep(5)\n",
        "import os\n",
        "os.kill(os.getpid(), 9)"
      ]
    },
    {
      "cell_type": "code",
      "source": [
        "import locale\n",
        "locale.getpreferredencoding = lambda: \"UTF-8\""
      ],
      "metadata": {
        "id": "es_CnlznVGkO"
      },
      "execution_count": 1,
      "outputs": []
    },
    {
      "cell_type": "code",
      "source": [
        "# base_path=\"/teamspace/studios/this_studio\"\n",
        "base_path=\"/content\"  #for google colab\n",
        "# base_path=\".\" #local dir"
      ],
      "metadata": {
        "id": "xJ8iTWmhVVdX"
      },
      "execution_count": 2,
      "outputs": []
    },
    {
      "cell_type": "code",
      "source": [
        "%cd $base_path/F5-TTS\n",
        "!python dub.py"
      ],
      "metadata": {
        "id": "D9YR2CbrVXwn"
      },
      "execution_count": null,
      "outputs": []
    }
  ]
}