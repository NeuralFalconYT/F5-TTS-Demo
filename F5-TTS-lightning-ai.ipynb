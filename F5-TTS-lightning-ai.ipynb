{
 "cells": [
  {
   "cell_type": "code",
   "execution_count": 1,
   "id": "6c9689e7-461b-42e3-ba31-acc0e8856109",
   "metadata": {},
   "outputs": [],
   "source": [
    "!git clone https://github.com/SWivid/F5-TTS.git\n",
    "!pip install -r ./F5-TTS/requirements.txt\n",
    "!sudo apt install ffmpeg\n",
    "from IPython.display import clear_output\n",
    "clear_output()"
   ]
  },
  {
   "cell_type": "code",
   "execution_count": 29,
   "id": "499e3120-09d6-4357-a2b6-1c4e444c8e95",
   "metadata": {},
   "outputs": [
    {
     "name": "stdout",
     "output_type": "stream",
     "text": [
      "nvcc: NVIDIA (R) Cuda compiler driver\n",
      "Copyright (c) 2005-2023 NVIDIA Corporation\n",
      "Built on Mon_Apr__3_17:16:06_PDT_2023\n",
      "Cuda compilation tools, release 12.1, V12.1.105\n",
      "Build cuda_12.1.r12.1/compiler.32688072_0\n"
     ]
    }
   ],
   "source": [
    "!nvcc --version"
   ]
  },
  {
   "cell_type": "markdown",
   "id": "452aea64-0697-4038-8a32-72d47e26ec3f",
   "metadata": {},
   "source": [
    "##### Find a version of PyTorch that supports your CUDA installation. To install for a different CUDA version, visit https://pytorch.org/. In my case, the CUDA version is V12.1.105, so I will download it with the following command:\n",
    "``` pip install torch torchvision torchaudio --index-url https://download.pytorch.org/whl/cu121```"
   ]
  },
  {
   "cell_type": "code",
   "execution_count": 30,
   "id": "24c937f3-586f-455e-afd5-b362edf6ab76",
   "metadata": {},
   "outputs": [],
   "source": [
    "!pip uninstall torch torchvision torchaudio -y\n",
    "!pip install torch torchvision torchaudio --index-url https://download.pytorch.org/whl/cu121\n",
    "clear_output()"
   ]
  },
  {
   "cell_type": "code",
   "execution_count": 2,
   "id": "6156d9d8-7ceb-4712-b8a3-45ffc3f3550c",
   "metadata": {},
   "outputs": [
    {
     "name": "stdout",
     "output_type": "stream",
     "text": [
      "Using cuda device\n",
      "/home/zeus/miniconda3/envs/cloudspace/lib/python3.10/site-packages/vocos/pretrained.py:70: FutureWarning: You are using `torch.load` with `weights_only=False` (the current default value), which uses the default pickle module implicitly. It is possible to construct malicious pickle data which will execute arbitrary code during unpickling (See https://github.com/pytorch/pytorch/blob/main/SECURITY.md#untrusted-models for more details). In a future release, the default value for `weights_only` will be flipped to `True`. This limits the functions that could be executed during unpickling. Arbitrary objects will no longer be allowed to be loaded via this mode unless they are explicitly allowlisted by the user via `torch.serialization.add_safe_globals`. We recommend you start setting `weights_only=True` for any use case where you don't have full control of the loaded file. Please open an issue on GitHub for any issues related to this experimental feature.\n",
      "  state_dict = torch.load(model_path, map_location=\"cpu\")\n",
      "Traceback (most recent call last):\n",
      "  File \"/teamspace/studios/this_studio/./F5-TTS/gradio_app.py\", line 94, in <module>\n",
      "    F5TTS_ema_model = load_model(\n",
      "  File \"/teamspace/studios/this_studio/./F5-TTS/gradio_app.py\", line 67, in load_model\n",
      "    vocab_char_map, vocab_size = get_tokenizer(\"Emilia_ZH_EN\", \"pinyin\")\n",
      "  File \"/teamspace/studios/this_studio/F5-TTS/model/utils.py\", line 132, in get_tokenizer\n",
      "    with open (f\"data/{dataset_name}_{tokenizer}/vocab.txt\", \"r\", encoding=\"utf-8\") as f:\n",
      "FileNotFoundError: [Errno 2] No such file or directory: 'data/Emilia_ZH_EN_pinyin/vocab.txt'\n"
     ]
    }
   ],
   "source": [
    "!python ./F5-TTS/gradio_app.py --share"
   ]
  }
 ],
 "metadata": {
  "kernelspec": {
   "display_name": "Python 3",
   "language": "python",
   "name": "python3"
  },
  "language_info": {
   "codemirror_mode": {
    "name": "ipython",
    "version": 3
   },
   "file_extension": ".py",
   "mimetype": "text/x-python",
   "name": "python",
   "nbconvert_exporter": "python",
   "pygments_lexer": "ipython3",
   "version": "3.10.10"
  }
 },
 "nbformat": 4,
 "nbformat_minor": 5
}
