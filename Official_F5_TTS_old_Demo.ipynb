{
  "nbformat": 4,
  "nbformat_minor": 0,
  "metadata": {
    "colab": {
      "provenance": [],
      "gpuType": "T4"
    },
    "kernelspec": {
      "name": "python3",
      "display_name": "Python 3"
    },
    "language_info": {
      "name": "python"
    },
    "accelerator": "GPU"
  },
  "cells": [
    {
      "cell_type": "code",
      "execution_count": null,
      "metadata": {
        "cellView": "form",
        "id": "HPhTeIlJXe4d"
      },
      "outputs": [],
      "source": [
        "#@title Install F5-TTS and Restart Session\n",
        "\n",
        "!git clone https://github.com/NeuralFalconYT/F5-TTS.git\n",
        "%cd /content/F5-TTS\n",
        "!pip install -r requirements.txt\n",
        "!pip install ctranslate2==4.4.0\n",
        "from IPython.display import clear_output\n",
        "clear_output()\n",
        "import time\n",
        "time.sleep(5)\n",
        "import os\n",
        "os.kill(os.getpid(), 9)"
      ]
    },
    {
      "cell_type": "code",
      "source": [
        "%cd /content/F5-TTS\n",
        "!python gradio_app.py --share"
      ],
      "metadata": {
        "id": "RUNBiTLLYN49"
      },
      "execution_count": null,
      "outputs": []
    },
    {
      "cell_type": "code",
      "source": [],
      "metadata": {
        "id": "v8xbudf-Xqpa"
      },
      "execution_count": null,
      "outputs": []
    }
  ]
}