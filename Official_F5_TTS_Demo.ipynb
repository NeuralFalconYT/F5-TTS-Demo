{
  "nbformat": 4,
  "nbformat_minor": 0,
  "metadata": {
    "colab": {
      "provenance": [],
      "gpuType": "T4"
    },
    "kernelspec": {
      "name": "python3",
      "display_name": "Python 3"
    },
    "language_info": {
      "name": "python"
    },
    "accelerator": "GPU"
  },
  "cells": [
    {
      "cell_type": "code",
      "execution_count": null,
      "metadata": {
        "cellView": "form",
        "id": "HPhTeIlJXe4d"
      },
      "outputs": [],
      "source": [
        "#@title Install F5-TTS and Restart Session\n",
        "\n",
        "!git clone https://github.com/SWivid/F5-TTS.git\n",
        "%cd /content/F5-TTS\n",
        "!pip install -r requirements.txt\n",
        "!pip install -r requirements_eval.txt\n",
        "from IPython.display import clear_output\n",
        "clear_output()\n",
        "import time\n",
        "time.sleep(5)\n",
        "import os\n",
        "os.kill(os.getpid(), 9)"
      ]
    },
    {
      "cell_type": "code",
      "source": [
        "%cd /content/F5-TTS\n",
        "!python gradio_app.py --share"
      ],
      "metadata": {
        "colab": {
          "base_uri": "https://localhost:8080/"
        },
        "id": "RUNBiTLLYN49",
        "outputId": "722ecdc0-d567-4109-d54a-b2cf0efa1517"
      },
      "execution_count": null,
      "outputs": [
        {
          "output_type": "stream",
          "name": "stdout",
          "text": [
            "/content/F5-TTS\n",
            "2024-10-15 09:04:14.501054: E external/local_xla/xla/stream_executor/cuda/cuda_fft.cc:485] Unable to register cuFFT factory: Attempting to register factory for plugin cuFFT when one has already been registered\n",
            "2024-10-15 09:04:14.521423: E external/local_xla/xla/stream_executor/cuda/cuda_dnn.cc:8454] Unable to register cuDNN factory: Attempting to register factory for plugin cuDNN when one has already been registered\n",
            "2024-10-15 09:04:14.527435: E external/local_xla/xla/stream_executor/cuda/cuda_blas.cc:1452] Unable to register cuBLAS factory: Attempting to register factory for plugin cuBLAS when one has already been registered\n",
            "2024-10-15 09:04:14.542251: I tensorflow/core/platform/cpu_feature_guard.cc:210] This TensorFlow binary is optimized to use available CPU instructions in performance-critical operations.\n",
            "To enable the following instructions: AVX2 FMA, in other operations, rebuild TensorFlow with the appropriate compiler flags.\n",
            "2024-10-15 09:04:15.882417: W tensorflow/compiler/tf2tensorrt/utils/py_utils.cc:38] TF-TRT Warning: Could not find TensorRT\n",
            "Using cuda device\n",
            "config.json: 100% 1.26k/1.26k [00:00<00:00, 7.53MB/s]\n",
            "model.safetensors: 100% 1.62G/1.62G [00:09<00:00, 172MB/s] \n",
            "generation_config.json: 100% 3.77k/3.77k [00:00<00:00, 24.7MB/s]\n",
            "tokenizer_config.json:   0% 0.00/283k [00:00<?, ?B/s]"
          ]
        }
      ]
    },
    {
      "cell_type": "code",
      "source": [],
      "metadata": {
        "id": "v8xbudf-Xqpa"
      },
      "execution_count": null,
      "outputs": []
    }
  ]
}